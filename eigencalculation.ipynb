{
 "cells": [
  {
   "metadata": {
    "ExecuteTime": {
     "end_time": "2025-07-22T00:52:01.952788Z",
     "start_time": "2025-07-22T00:52:01.903510Z"
    }
   },
   "cell_type": "code",
   "source": [
    "import numpy as np\n",
    "import os\n",
    "import matplotlib.pyplot as plt\n",
    "import time\n",
    "\n",
    "data = []\n",
    "for subject in os.listdir('face_data'):\n",
    "    first_face = os.path.join('face_data', subject, '1.pgm')\n",
    "    second_face = os.path.join('face_data', subject, '2.pgm')\n",
    "    third_face = os.path.join('face_data', subject, '3.pgm')\n",
    "    faces = [first_face, second_face, third_face]\n",
    "    for face in faces:\n",
    "        with open(face, 'rb') as f:\n",
    "            f.readline()         # magic number\n",
    "            f.readline()         # width height\n",
    "            f.readline()         # maxval\n",
    "            img = np.frombuffer(f.read(), dtype=np.uint8).reshape((112, 92))\n",
    "            data.append(img)\n",
    "\n",
    "\n",
    "image_matrix = np.zeros((len(data), 92**2))\n",
    "for i, img in enumerate(data):\n",
    "    img = img[10: img.shape[0]-10, :]\n",
    "    image_matrix[i, :] = img.flatten()\n",
    "\n",
    "# Subtract the mean face (as we all should in life)\n",
    "mean_face = np.zeros_like(image_matrix[0])\n",
    "for face in image_matrix:\n",
    "    mean_face += face\n",
    "mean_face /= len(data)\n",
    "A = image_matrix - mean_face # Broadcast across columns, Shape (m, n)\n",
    "\n",
    "\n",
    "C = A @ A.T   # Shape: (m, m)\n",
    "# Eigen-decomposition of C\n",
    "eigvals_C, eigvecs_C = np.linalg.eig(C)\n",
    "eigvals_C = np.real(eigvals_C)\n",
    "eigvecs_C = np.real(eigvecs_C)\n",
    "\n",
    "# Sort eigenvalues and vectors in descending order\n",
    "idx = np.argsort(eigvals_C)[::-1]\n",
    "eigvals_C = eigvals_C[idx]\n",
    "eigvecs_C = eigvecs_C[:, idx]\n",
    "\n",
    "# Following formula (5) from Turk & Pentland, 1991\n",
    "eigenfaces = A.T @ eigvecs_C    # Shape: (n, m)\n",
    "eigenfaces /= np.linalg.norm(eigenfaces, axis=0, keepdims=True)\n",
    "\n"
   ],
   "id": "f4eb21b5b888cff5",
   "outputs": [],
   "execution_count": 18
  },
  {
   "metadata": {
    "ExecuteTime": {
     "end_time": "2025-07-22T00:52:02.144342400Z",
     "start_time": "2025-07-22T00:29:19.869542Z"
    }
   },
   "cell_type": "code",
   "source": "x = read_pgm('changed')",
   "id": "79bf54bdc710327f",
   "outputs": [],
   "execution_count": 9
  },
  {
   "metadata": {
    "ExecuteTime": {
     "end_time": "2025-07-22T00:52:02.147236700Z",
     "start_time": "2025-07-22T00:44:56.511724Z"
    }
   },
   "cell_type": "code",
   "source": "y = read_pgm('2', 5)",
   "id": "f4c2603f15edba6c",
   "outputs": [],
   "execution_count": 15
  },
  {
   "metadata": {
    "ExecuteTime": {
     "end_time": "2025-07-22T00:52:02.152456200Z",
     "start_time": "2025-07-22T00:46:27.966120Z"
    }
   },
   "cell_type": "code",
   "source": "plt.imshow(y)",
   "id": "7ca1c0b8d8e9bf54",
   "outputs": [],
   "execution_count": 17
  },
  {
   "metadata": {},
   "cell_type": "code",
   "outputs": [],
   "execution_count": null,
   "source": "",
   "id": "7de6e7281db2ab99"
  }
 ],
 "metadata": {
  "kernelspec": {
   "display_name": "Python 3",
   "language": "python",
   "name": "python3"
  },
  "language_info": {
   "codemirror_mode": {
    "name": "ipython",
    "version": 2
   },
   "file_extension": ".py",
   "mimetype": "text/x-python",
   "name": "python",
   "nbconvert_exporter": "python",
   "pygments_lexer": "ipython2",
   "version": "2.7.6"
  }
 },
 "nbformat": 4,
 "nbformat_minor": 5
}
