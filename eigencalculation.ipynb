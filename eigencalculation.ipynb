{
 "cells": [
  {
   "cell_type": "code",
   "id": "initial_id",
   "metadata": {
    "collapsed": true,
    "ExecuteTime": {
     "end_time": "2025-07-23T05:14:36.779592Z",
     "start_time": "2025-07-23T05:14:36.694102Z"
    }
   },
   "source": [
    "import numpy as np\n",
    "import numpy.linalg as la\n",
    "import copy\n",
    "# Define the matrix A\n",
    "A = np.array([[1, 2, 3],\n",
    "              [0, 1, 4]])"
   ],
   "outputs": [],
   "execution_count": 1
  },
  {
   "metadata": {
    "ExecuteTime": {
     "end_time": "2025-07-23T05:14:36.790407Z",
     "start_time": "2025-07-23T05:14:36.786716Z"
    }
   },
   "cell_type": "code",
   "source": "S1 = A @ A.T",
   "id": "4d4add7be55b7d3e",
   "outputs": [],
   "execution_count": 2
  },
  {
   "metadata": {
    "ExecuteTime": {
     "end_time": "2025-07-23T05:14:37.035544Z",
     "start_time": "2025-07-23T05:14:37.031464Z"
    }
   },
   "cell_type": "code",
   "source": [
    "S2 = np.zeros_like(S1)\n",
    "for i in range(A.shape[0]):\n",
    "    S2 += np.outer(A[:, i], A[:, i])"
   ],
   "id": "aaf034e3f59c87cc",
   "outputs": [],
   "execution_count": 3
  },
  {
   "metadata": {
    "ExecuteTime": {
     "end_time": "2025-07-23T05:14:37.049985Z",
     "start_time": "2025-07-23T05:14:37.044989Z"
    }
   },
   "cell_type": "code",
   "source": [
    "def grahm_schmidt(A):\n",
    "    \"\"\"Perform Gram-Schmidt orthogonalization on the columns of A.\"\"\"\n",
    "    Q = np.zeros_like(A)\n",
    "    for i in range(A.shape[1]):\n",
    "        v = A[:, i]\n",
    "        for j in range(i):\n",
    "            v -= np.dot(Q[:, j], A[:, i]) * Q[:, j]\n",
    "        Q[:, i] = v / la.norm(v)\n",
    "    return Q"
   ],
   "id": "3653ff483532d18",
   "outputs": [],
   "execution_count": 4
  },
  {
   "metadata": {
    "ExecuteTime": {
     "end_time": "2025-07-23T05:14:37.072508Z",
     "start_time": "2025-07-23T05:14:37.069357Z"
    }
   },
   "cell_type": "code",
   "source": "",
   "id": "cd7b37f4207fc334",
   "outputs": [],
   "execution_count": null
  },
  {
   "metadata": {
    "ExecuteTime": {
     "end_time": "2025-07-23T05:14:37.605198Z",
     "start_time": "2025-07-23T05:14:37.081005Z"
    }
   },
   "cell_type": "code",
   "source": [
    "import numpy as np\n",
    "from faces_places import is_orthonormal\n",
    "def gram_schmidt(A):\n",
    "    \"\"\"Compute an orthogonal matrix using the Gram-Schmidt process on the rows of A\"\"\"\n",
    "\n",
    "    Q = np.ones_like(A, dtype=float)\n",
    "    print(f'Q is {Q}')\n",
    "    print(Q.shape)\n",
    "    for i in range(1, A.shape[0]):\n",
    "        u = A[i]\n",
    "        for v in Q:\n",
    "            projuv = v * np.dot(u, v) / np.dot(v, v)\n",
    "            print('u is: ', u)\n",
    "            print('v is: ', v)\n",
    "            print('projuv is: ', projuv)\n",
    "            u -= projuv\n",
    "        Q[i] = u\n",
    "    return Q\n",
    "A = np.array([[1, 2, 3],\n",
    "              [0, 1, 4]], dtype=float)\n",
    "Q = gram_schmidt(A)\n",
    "\n",
    "is_orthonormal(Q)"
   ],
   "id": "2f0fa38fb534ac3",
   "outputs": [
    {
     "name": "stdout",
     "output_type": "stream",
     "text": [
      "Q is [[1. 1. 1.]\n",
      " [1. 1. 1.]]\n",
      "(2, 3)\n",
      "u is:  [0. 1. 4.]\n",
      "v is:  [1. 1. 1.]\n",
      "projuv is:  [1.66666667 1.66666667 1.66666667]\n",
      "u is:  [-1.66666667 -0.66666667  2.33333333]\n",
      "v is:  [1. 1. 1.]\n",
      "projuv is:  [-1.48029737e-16 -1.48029737e-16 -1.48029737e-16]\n",
      "Matrix shape: 2 rows, 3 columns\n",
      "Row orthogonality: yes\n",
      "Row normality: no\n",
      "Column orthogonality: trivially no\n",
      "Column normality: no\n"
     ]
    }
   ],
   "execution_count": 5
  },
  {
   "metadata": {
    "ExecuteTime": {
     "end_time": "2025-07-23T05:14:37.629039Z",
     "start_time": "2025-07-23T05:14:37.623312Z"
    }
   },
   "cell_type": "code",
   "source": "Q = gram_schmidt(A)",
   "id": "4e7505b9c2ba85c1",
   "outputs": [
    {
     "name": "stdout",
     "output_type": "stream",
     "text": [
      "Q is [[1. 1. 1.]\n",
      " [1. 1. 1.]]\n",
      "(2, 3)\n",
      "u is:  [-1.66666667 -0.66666667  2.33333333]\n",
      "v is:  [1. 1. 1.]\n",
      "projuv is:  [-3.70074342e-17 -3.70074342e-17 -3.70074342e-17]\n",
      "u is:  [-1.66666667 -0.66666667  2.33333333]\n",
      "v is:  [1. 1. 1.]\n",
      "projuv is:  [0. 0. 0.]\n"
     ]
    }
   ],
   "execution_count": 6
  },
  {
   "metadata": {
    "ExecuteTime": {
     "end_time": "2025-07-23T05:14:37.641895Z",
     "start_time": "2025-07-23T05:14:37.635052Z"
    }
   },
   "cell_type": "code",
   "source": [
    "def is_diag(mat, tol=1e-4):\n",
    "    \"\"\"\n",
    "    Returns boolean answer to whether or not mat is a diagonal matrix\n",
    "    :param mat:\n",
    "    :param tol:\n",
    "    :return:\n",
    "    \"\"\"\n",
    "    for i in range(mat.shape[0]):\n",
    "        for j in range(mat.shape[1]):\n",
    "            if i != j and mat[i, j] > tol:\n",
    "                return False\n",
    "\n",
    "    return True\n",
    "\n",
    "def test_is_diag():\n",
    "    import numpy as np\n",
    "\n",
    "    # Diagonal matrix\n",
    "    mat1 = np.diag([1, 2, 3])\n",
    "    assert is_diag(mat1)\n",
    "\n",
    "    # Non-diagonal matrix\n",
    "    mat2 = np.array([[1, 2], [0, 1]])\n",
    "    assert not is_diag(mat2)\n",
    "\n",
    "    # Nearly diagonal (off-diagonal below tolerance)\n",
    "    mat3 = np.array([[1, 1e-5], [0, 2]])\n",
    "    assert is_diag(mat3)\n",
    "\n",
    "    # Nearly diagonal (off-diagonal above tolerance)\n",
    "    mat4 = np.array([[1, 1e-3], [0, 2]])\n",
    "    assert not is_diag(mat4)\n",
    "\n",
    "    print(\"All tests passed.\")\n",
    "\n",
    "test_is_diag()\n"
   ],
   "id": "67ad967d38eb9684",
   "outputs": [
    {
     "name": "stdout",
     "output_type": "stream",
     "text": [
      "All tests passed.\n"
     ]
    }
   ],
   "execution_count": 7
  },
  {
   "metadata": {
    "ExecuteTime": {
     "end_time": "2025-07-23T05:14:37.657257Z",
     "start_time": "2025-07-23T05:14:37.654752Z"
    }
   },
   "cell_type": "code",
   "source": "",
   "id": "a0aeaa470609cca9",
   "outputs": [],
   "execution_count": null
  },
  {
   "metadata": {
    "ExecuteTime": {
     "end_time": "2025-07-23T05:14:37.671859Z",
     "start_time": "2025-07-23T05:14:37.669260Z"
    }
   },
   "cell_type": "code",
   "source": "",
   "id": "13143b6b143367de",
   "outputs": [],
   "execution_count": null
  }
 ],
 "metadata": {
  "kernelspec": {
   "display_name": "Python 3",
   "language": "python",
   "name": "python3"
  },
  "language_info": {
   "codemirror_mode": {
    "name": "ipython",
    "version": 2
   },
   "file_extension": ".py",
   "mimetype": "text/x-python",
   "name": "python",
   "nbconvert_exporter": "python",
   "pygments_lexer": "ipython2",
   "version": "2.7.6"
  }
 },
 "nbformat": 4,
 "nbformat_minor": 5
}
