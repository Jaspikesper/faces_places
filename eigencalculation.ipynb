{
 "cells": [
  {
   "cell_type": "code",
   "id": "initial_id",
   "metadata": {
    "collapsed": true,
    "ExecuteTime": {
     "end_time": "2025-07-24T18:06:33.583018Z",
     "start_time": "2025-07-24T18:06:33.579013Z"
    }
   },
   "source": [
    "import numpy as np\n",
    "import numpy.linalg as la\n",
    "import copy\n",
    "# Define the matrix A\n",
    "A = np.array([[1, 2, 3],\n",
    "              [0, 1, 4]])"
   ],
   "outputs": [],
   "execution_count": 3
  },
  {
   "metadata": {
    "ExecuteTime": {
     "end_time": "2025-07-24T18:06:33.605205Z",
     "start_time": "2025-07-24T18:06:33.599350Z"
    }
   },
   "cell_type": "code",
   "source": [
    "def gram_schmidt(A):\n",
    "    \"\"\"Compute an orthonormal matrix using the Gram-Schmidt process on the rows of A\"\"\"\n",
    "    A = A.copy()\n",
    "    for k in range(A.shape[0]):\n",
    "        v_k = A[k].copy()\n",
    "        for j in range(k):\n",
    "            u_j = A[j]\n",
    "            proj = np.dot(v_k, u_j) / np.dot(u_j, u_j) * u_j\n",
    "            v_k -= proj\n",
    "        norm = np.linalg.norm(v_k)\n",
    "        if norm > 1e-10:\n",
    "            A[k] = v_k / norm\n",
    "        else:\n",
    "            A[k] = v_k  # or raise an error if you expect full rank\n",
    "    return A"
   ],
   "id": "2f0fa38fb534ac3",
   "outputs": [],
   "execution_count": 4
  },
  {
   "metadata": {
    "ExecuteTime": {
     "end_time": "2025-07-24T18:06:33.705487Z",
     "start_time": "2025-07-24T18:06:33.625995Z"
    }
   },
   "cell_type": "code",
   "source": [
    "import numpy as np\n",
    "\n",
    "def test_qr_decomp(qr_func, tol=1e-8, complex_test=True):\n",
    "    def check_orthonormal(Q):\n",
    "        I = np.eye(Q.shape[1], dtype=Q.dtype)\n",
    "        err = np.linalg.norm(Q.T.conj() @ Q - I)\n",
    "        return err < tol, err\n",
    "\n",
    "    def check_upper_triangular(R):\n",
    "        err = np.linalg.norm(np.tril(R, -1))\n",
    "        return err < tol, err\n",
    "\n",
    "    def check_reconstruction(A, Q, R):\n",
    "        err = np.linalg.norm(Q @ R - A)\n",
    "        return err < tol * max(1, np.linalg.norm(A)), err\n",
    "\n",
    "    def check_no_nan_inf(X):\n",
    "        return not (np.isnan(X).any() or np.isinf(X).any())\n",
    "\n",
    "    tests = []\n",
    "    passed = 0\n",
    "    failed = 0\n",
    "\n",
    "    def run_test(name, A):\n",
    "        nonlocal passed, failed\n",
    "        print(f\"\\nTest: {name}\")\n",
    "        try:\n",
    "            Q, R = qr_func(A)\n",
    "        except Exception as e:\n",
    "            print(f\"  FAILED: Exception during QR: {e}\")\n",
    "            failed += 1\n",
    "            return\n",
    "\n",
    "        # Shape checks\n",
    "        if Q.shape[0] != A.shape[0] or R.shape[1] != A.shape[1]:\n",
    "            print(f\"  FAILED: Shape mismatch. Q: {Q.shape}, R: {R.shape}, A: {A.shape}\")\n",
    "            failed += 1\n",
    "            return\n",
    "\n",
    "        # Orthonormality\n",
    "        ortho, ortho_err = check_orthonormal(Q)\n",
    "        print(f\"  Orthonormality: {'PASS' if ortho else 'FAIL'} (err={ortho_err:.2e})\")\n",
    "\n",
    "        # Upper triangular\n",
    "        upper, upper_err = check_upper_triangular(R)\n",
    "        print(f\"  Upper Triangular: {'PASS' if upper else 'FAIL'} (err={upper_err:.2e})\")\n",
    "\n",
    "        # Reconstruction\n",
    "        recon, recon_err = check_reconstruction(A, Q, R)\n",
    "        print(f\"  Reconstruction: {'PASS' if recon else 'FAIL'} (err={recon_err:.2e})\")\n",
    "\n",
    "        # NaN/Inf\n",
    "        naninf_Q = check_no_nan_inf(Q)\n",
    "        naninf_R = check_no_nan_inf(R)\n",
    "        print(f\"  Q NaN/Inf: {'PASS' if naninf_Q else 'FAIL'}\")\n",
    "        print(f\"  R NaN/Inf: {'PASS' if naninf_R else 'FAIL'}\")\n",
    "\n",
    "        # Final pass/fail\n",
    "        if ortho and upper and recon and naninf_Q and naninf_R:\n",
    "            print(\"  Test PASSED\")\n",
    "            passed += 1\n",
    "        else:\n",
    "            print(\"  Test FAILED\")\n",
    "            failed += 1\n",
    "\n",
    "    # Random matrices\n",
    "    np.random.seed(42)\n",
    "    for m, n in [(3, 3), (5, 3), (3, 5), (10, 10), (8, 2), (2, 8)]:\n",
    "        A = np.random.randn(m, n)\n",
    "        run_test(f\"Random real {m}x{n}\", A)\n",
    "\n",
    "    # Rank-deficient\n",
    "    A = np.random.randn(5, 5)\n",
    "    A[:, 2] = A[:, 1]  # duplicate column\n",
    "    run_test(\"Rank-deficient (duplicate columns)\", A)\n",
    "    A = np.zeros((4, 4))\n",
    "    run_test(\"Zero matrix\", A)\n",
    "\n",
    "    # Known cases\n",
    "    run_test(\"Identity\", np.eye(4))\n",
    "    run_test(\"Diagonal\", np.diag([1, 2, 3, 4]))\n",
    "    run_test(\"Upper triangular\", np.triu(np.ones((4, 4))))\n",
    "    Q_known = np.array([[1, 0], [0, -1]])\n",
    "    run_test(\"Known orthogonal\", Q_known)\n",
    "\n",
    "    # Edge sizes\n",
    "    run_test(\"1x1\", np.array([[7.0]]))\n",
    "    run_test(\"1xn\", np.random.randn(1, 5))\n",
    "    run_test(\"nx1\", np.random.randn(5, 1))\n",
    "    run_test(\"Empty 0x0\", np.empty((0, 0)))\n",
    "    run_test(\"Empty 0x3\", np.empty((0, 3)))\n",
    "    run_test(\"Empty 3x0\", np.empty((3, 0)))\n",
    "\n",
    "    # Complex matrices\n",
    "    if complex_test:\n",
    "        A = np.random.randn(4, 4) + 1j * np.random.randn(4, 4)\n",
    "        run_test(\"Random complex 4x4\", A)\n",
    "        A = np.eye(3, dtype=complex)\n",
    "        run_test(\"Complex identity\", A)\n",
    "\n",
    "    print(f\"\\nSummary: {passed} PASSED, {failed} FAILED, {passed+failed} total tests.\")\n",
    "\n",
    "# Example usage with numpy's QR\n",
    "if __name__ == \"__main__\":\n",
    "    test_qr_decomp(lambda A: np.linalg.qr(A, mode='reduced'))"
   ],
   "id": "a0aeaa470609cca9",
   "outputs": [
    {
     "name": "stdout",
     "output_type": "stream",
     "text": [
      "\n",
      "Test: Random real 3x3\n",
      "  Orthonormality: PASS (err=2.29e-16)\n",
      "  Upper Triangular: PASS (err=0.00e+00)\n",
      "  Reconstruction: PASS (err=4.38e-16)\n",
      "  Q NaN/Inf: PASS\n",
      "  R NaN/Inf: PASS\n",
      "  Test PASSED\n",
      "\n",
      "Test: Random real 5x3\n",
      "  Orthonormality: PASS (err=7.87e-16)\n",
      "  Upper Triangular: PASS (err=0.00e+00)\n",
      "  Reconstruction: PASS (err=1.42e-15)\n",
      "  Q NaN/Inf: PASS\n",
      "  R NaN/Inf: PASS\n",
      "  Test PASSED\n",
      "\n",
      "Test: Random real 3x5\n",
      "  Orthonormality: PASS (err=1.80e-16)\n",
      "  Upper Triangular: PASS (err=0.00e+00)\n",
      "  Reconstruction: PASS (err=1.13e-15)\n",
      "  Q NaN/Inf: PASS\n",
      "  R NaN/Inf: PASS\n",
      "  Test PASSED\n",
      "\n",
      "Test: Random real 10x10\n",
      "  Orthonormality: PASS (err=1.56e-15)\n",
      "  Upper Triangular: PASS (err=0.00e+00)\n",
      "  Reconstruction: PASS (err=3.40e-15)\n",
      "  Q NaN/Inf: PASS\n",
      "  R NaN/Inf: PASS\n",
      "  Test PASSED\n",
      "\n",
      "Test: Random real 8x2\n",
      "  Orthonormality: PASS (err=1.26e-16)\n",
      "  Upper Triangular: PASS (err=0.00e+00)\n",
      "  Reconstruction: PASS (err=7.23e-16)\n",
      "  Q NaN/Inf: PASS\n",
      "  R NaN/Inf: PASS\n",
      "  Test PASSED\n",
      "\n",
      "Test: Random real 2x8\n",
      "  Orthonormality: PASS (err=5.50e-16)\n",
      "  Upper Triangular: PASS (err=0.00e+00)\n",
      "  Reconstruction: PASS (err=1.40e-15)\n",
      "  Q NaN/Inf: PASS\n",
      "  R NaN/Inf: PASS\n",
      "  Test PASSED\n",
      "\n",
      "Test: Rank-deficient (duplicate columns)\n",
      "  Orthonormality: PASS (err=6.99e-16)\n",
      "  Upper Triangular: PASS (err=0.00e+00)\n",
      "  Reconstruction: PASS (err=1.01e-15)\n",
      "  Q NaN/Inf: PASS\n",
      "  R NaN/Inf: PASS\n",
      "  Test PASSED\n",
      "\n",
      "Test: Zero matrix\n",
      "  Orthonormality: PASS (err=0.00e+00)\n",
      "  Upper Triangular: PASS (err=0.00e+00)\n",
      "  Reconstruction: PASS (err=0.00e+00)\n",
      "  Q NaN/Inf: PASS\n",
      "  R NaN/Inf: PASS\n",
      "  Test PASSED\n",
      "\n",
      "Test: Identity\n",
      "  Orthonormality: PASS (err=0.00e+00)\n",
      "  Upper Triangular: PASS (err=0.00e+00)\n",
      "  Reconstruction: PASS (err=0.00e+00)\n",
      "  Q NaN/Inf: PASS\n",
      "  R NaN/Inf: PASS\n",
      "  Test PASSED\n",
      "\n",
      "Test: Diagonal\n",
      "  Orthonormality: PASS (err=0.00e+00)\n",
      "  Upper Triangular: PASS (err=0.00e+00)\n",
      "  Reconstruction: PASS (err=0.00e+00)\n",
      "  Q NaN/Inf: PASS\n",
      "  R NaN/Inf: PASS\n",
      "  Test PASSED\n",
      "\n",
      "Test: Upper triangular\n",
      "  Orthonormality: PASS (err=0.00e+00)\n",
      "  Upper Triangular: PASS (err=0.00e+00)\n",
      "  Reconstruction: PASS (err=0.00e+00)\n",
      "  Q NaN/Inf: PASS\n",
      "  R NaN/Inf: PASS\n",
      "  Test PASSED\n",
      "\n",
      "Test: Known orthogonal\n",
      "  Orthonormality: PASS (err=0.00e+00)\n",
      "  Upper Triangular: PASS (err=0.00e+00)\n",
      "  Reconstruction: PASS (err=0.00e+00)\n",
      "  Q NaN/Inf: PASS\n",
      "  R NaN/Inf: PASS\n",
      "  Test PASSED\n",
      "\n",
      "Test: 1x1\n",
      "  Orthonormality: PASS (err=0.00e+00)\n",
      "  Upper Triangular: PASS (err=0.00e+00)\n",
      "  Reconstruction: PASS (err=0.00e+00)\n",
      "  Q NaN/Inf: PASS\n",
      "  R NaN/Inf: PASS\n",
      "  Test PASSED\n",
      "\n",
      "Test: 1xn\n",
      "  Orthonormality: PASS (err=0.00e+00)\n",
      "  Upper Triangular: PASS (err=0.00e+00)\n",
      "  Reconstruction: PASS (err=0.00e+00)\n",
      "  Q NaN/Inf: PASS\n",
      "  R NaN/Inf: PASS\n",
      "  Test PASSED\n",
      "\n",
      "Test: nx1\n",
      "  Orthonormality: PASS (err=0.00e+00)\n",
      "  Upper Triangular: PASS (err=0.00e+00)\n",
      "  Reconstruction: PASS (err=2.22e-16)\n",
      "  Q NaN/Inf: PASS\n",
      "  R NaN/Inf: PASS\n",
      "  Test PASSED\n",
      "\n",
      "Test: Empty 0x0\n",
      "  Orthonormality: PASS (err=0.00e+00)\n",
      "  Upper Triangular: PASS (err=0.00e+00)\n",
      "  Reconstruction: PASS (err=0.00e+00)\n",
      "  Q NaN/Inf: PASS\n",
      "  R NaN/Inf: PASS\n",
      "  Test PASSED\n",
      "\n",
      "Test: Empty 0x3\n",
      "  Orthonormality: PASS (err=0.00e+00)\n",
      "  Upper Triangular: PASS (err=0.00e+00)\n",
      "  Reconstruction: PASS (err=0.00e+00)\n",
      "  Q NaN/Inf: PASS\n",
      "  R NaN/Inf: PASS\n",
      "  Test PASSED\n",
      "\n",
      "Test: Empty 3x0\n",
      "  Orthonormality: PASS (err=0.00e+00)\n",
      "  Upper Triangular: PASS (err=0.00e+00)\n",
      "  Reconstruction: PASS (err=0.00e+00)\n",
      "  Q NaN/Inf: PASS\n",
      "  R NaN/Inf: PASS\n",
      "  Test PASSED\n",
      "\n",
      "Test: Random complex 4x4\n",
      "  Orthonormality: PASS (err=4.74e-16)\n",
      "  Upper Triangular: PASS (err=0.00e+00)\n",
      "  Reconstruction: PASS (err=1.27e-15)\n",
      "  Q NaN/Inf: PASS\n",
      "  R NaN/Inf: PASS\n",
      "  Test PASSED\n",
      "\n",
      "Test: Complex identity\n",
      "  Orthonormality: PASS (err=0.00e+00)\n",
      "  Upper Triangular: PASS (err=0.00e+00)\n",
      "  Reconstruction: PASS (err=0.00e+00)\n",
      "  Q NaN/Inf: PASS\n",
      "  R NaN/Inf: PASS\n",
      "  Test PASSED\n",
      "\n",
      "Summary: 20 PASSED, 0 FAILED, 20 total tests.\n"
     ]
    }
   ],
   "execution_count": 5
  },
  {
   "metadata": {
    "ExecuteTime": {
     "end_time": "2025-07-24T18:06:33.782737Z",
     "start_time": "2025-07-24T18:06:33.778548Z"
    }
   },
   "cell_type": "code",
   "source": [
    "v1 = np.array([1, 2, 3])\n",
    "v2 = np.array([1, 1, 1])"
   ],
   "id": "d0bbd952b741a827",
   "outputs": [],
   "execution_count": 6
  },
  {
   "metadata": {
    "ExecuteTime": {
     "end_time": "2025-07-24T18:06:43.969402Z",
     "start_time": "2025-07-24T18:06:43.966453Z"
    }
   },
   "cell_type": "code",
   "source": "u1 = v1.copy()",
   "id": "85476533fde66498",
   "outputs": [],
   "execution_count": 7
  },
  {
   "metadata": {
    "ExecuteTime": {
     "end_time": "2025-07-24T18:06:52.605716Z",
     "start_time": "2025-07-24T18:06:52.601934Z"
    }
   },
   "cell_type": "code",
   "source": "u2 = v2 - np.dot(v2, u1) / np.dot(u1, u1) * u1",
   "id": "5ff6316481a4f286",
   "outputs": [],
   "execution_count": 8
  },
  {
   "metadata": {
    "ExecuteTime": {
     "end_time": "2025-07-24T18:09:40.385969Z",
     "start_time": "2025-07-24T18:09:40.381265Z"
    }
   },
   "cell_type": "code",
   "source": "u1",
   "id": "9e9e0b6660081cfd",
   "outputs": [
    {
     "data": {
      "text/plain": [
       "array([1, 2, 3])"
      ]
     },
     "execution_count": 11,
     "metadata": {},
     "output_type": "execute_result"
    }
   ],
   "execution_count": 11
  },
  {
   "metadata": {
    "ExecuteTime": {
     "end_time": "2025-07-24T18:09:53.847442Z",
     "start_time": "2025-07-24T18:09:53.841729Z"
    }
   },
   "cell_type": "code",
   "source": "",
   "id": "f0ce9880e5cca88",
   "outputs": [
    {
     "data": {
      "text/plain": [
       "np.float64(0.6546536707079771)"
      ]
     },
     "execution_count": 13,
     "metadata": {},
     "output_type": "execute_result"
    }
   ],
   "execution_count": 13
  },
  {
   "metadata": {},
   "cell_type": "code",
   "outputs": [],
   "execution_count": null,
   "source": "",
   "id": "f2537769890973f0"
  }
 ],
 "metadata": {
  "kernelspec": {
   "display_name": "Python 3",
   "language": "python",
   "name": "python3"
  },
  "language_info": {
   "codemirror_mode": {
    "name": "ipython",
    "version": 2
   },
   "file_extension": ".py",
   "mimetype": "text/x-python",
   "name": "python",
   "nbconvert_exporter": "python",
   "pygments_lexer": "ipython2",
   "version": "2.7.6"
  }
 },
 "nbformat": 4,
 "nbformat_minor": 5
}
